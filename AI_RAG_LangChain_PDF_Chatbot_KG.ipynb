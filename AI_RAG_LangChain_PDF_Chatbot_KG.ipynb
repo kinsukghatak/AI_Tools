{
 "cells": [
  {
   "cell_type": "markdown",
   "id": "be0ad067",
   "metadata": {},
   "source": [
    "# Lancghain Based RAG Chatbot "
   ]
  },
  {
   "cell_type": "markdown",
   "id": "f2f1c639",
   "metadata": {},
   "source": [
    "### Description :\n",
    "This Jupyter Notebook demonstrates the implementation of a Retrieval Augmented Generation (RAG) chatbot using the LangChain framework. The chatbot is designed to answer questions based on the content of uploaded PDF documents. It leverages HuggingFace models for embeddings and language generation.\n",
    "\n",
    "- Author : Kinsuk Ghatak\n",
    "- Date Published : 8th June, 2025\n",
    "- Github: https://github.com/kinsukghatak\n",
    "- LinkedIn : https://www.linkedin.com/in/kinsukghatak/"
   ]
  },
  {
   "attachments": {
    "image.png": {
     "image/png": "[encoded data removed]"
    }
   },
   "cell_type": "markdown",
   "id": "8fb1b6c7",
   "metadata": {},
   "source": [
    "![image.png](attachment:image.png)"
   ]
  },
  {
   "cell_type": "markdown",
   "id": "8a161f18",
   "metadata": {},
   "source": [
    "## Sec1 : Install Install necessary Python libraries and connect with HF API :"
   ]
  },
  {
   "cell_type": "code",
   "execution_count": null,
   "id": "87a787ce",
   "metadata": {},
   "outputs": [],
   "source": [
    "# !pip install langchain-openai\n",
    "# !pip install openai\n",
    "# !pip install PyPDF2\n",
    "# !pip install faiss-cpu\n",
    "# !pip install tiktoken\n",
    "\n",
    "# !pip install langchain-community\n",
    "# pip install -U sentence-transformers --user\n",
    "# pip install -U langchain-huggingface\n",
    "\n",
    "\n",
    "# pip install --upgrade langchain langchain-huggingface huggingface-hub\n",
    "# pip install urllib3==1.26.18"
   ]
  },
  {
   "cell_type": "code",
   "execution_count": null,
   "id": "04463291",
   "metadata": {},
   "outputs": [],
   "source": []
  },
  {
   "cell_type": "code",
   "execution_count": 5,
   "id": "7351fb15",
   "metadata": {},
   "outputs": [],
   "source": [
    "from PyPDF2 import PdfReader\n",
    "from langchain.text_splitter import CharacterTextSplitter\n",
    "from langchain.vectorstores import FAISS\n",
    "import os\n",
    "from tkinter import Tk, filedialog\n",
    "from langchain_huggingface import HuggingFaceEmbeddings, HuggingFaceEndpoint\n",
    "from langchain.text_splitter import CharacterTextSplitter\n",
    "from langchain.vectorstores import FAISS\n",
    "from langchain.chains.question_answering import load_qa_chain\n",
    "from langchain.schema import Document\n"
   ]
  },
  {
   "cell_type": "code",
   "execution_count": 6,
   "id": "2062656c",
   "metadata": {},
   "outputs": [],
   "source": [
    "# First get the HuggingGace API toke and then Import the os module to interact with the operating system.\n",
    "# The hugging face API is stored in a variable\n",
    "\n",
    "os.environ[\"HUGGINGFACEHUB_API_TOKEN\"] = \"hf_XXXXXXXXXXXXXXXXXXXXXXX\""
   ]
  },
  {
   "cell_type": "code",
   "execution_count": 7,
   "id": "d6e4ce29",
   "metadata": {},
   "outputs": [
    {
     "name": "stdout",
     "output_type": "stream",
     "text": [
      "Hugging Face token found in environment.\n"
     ]
    }
   ],
   "source": [
    "# --- Diagnostic Step ---\n",
    "# This cell verifies if the Hugging Face API token is correctly loaded as an environment variable.\n",
    "hf_token = os.environ.get(\"HUGGINGFACEHUB_API_TOKEN\")\n",
    "if hf_token:\n",
    "    print(\"Hugging Face token found in environment.\")\n",
    "else:\n",
    "    print(\"HUGGINGFACEHUB_API_TOKEN environment variable not found!\")\n",
    "    # Exit or handle the error appropriately\n",
    "    exit()"
   ]
  },
  {
   "cell_type": "markdown",
   "id": "6295721c",
   "metadata": {},
   "source": [
    "## Sec 2: Read & Process the PDF File, Extract content & Create Embeddings and Vector \n",
    "- Define a functions to open a file dialog and select a PDF file, load and read text content from the selected PDF\n",
    "- Iterate through each page of the previously loaded PDF and store the content\n",
    "- Split the extracted PDF text into manageable chunks by using CharacterTextSplitter to ensure the text chunks are within a suitable token size for language models\n",
    "- Perform required embeddings of the text using HF model. Embeddings are numerical representations of text that capture semantic meaning\n",
    "- Once Embeddings are done, create a FAISS vector store from the text chunks and their embeddings. Vector store allows for efficient similarity search, which is crucial for RAG."
   ]
  },
  {
   "cell_type": "code",
   "execution_count": 8,
   "id": "3643a43c",
   "metadata": {},
   "outputs": [
    {
     "name": "stdout",
     "output_type": "stream",
     "text": [
      "\n",
      "📄 File Ingested: Statistical_methods_in_credit_Risk_modelling.pdf\n",
      "📚 Total Pages: 156\n",
      "💾 File Size: 1.47 MB\n"
     ]
    }
   ],
   "source": [
    "import os\n",
    "from PyPDF2 import PdfReader\n",
    "from tkinter import Tk, filedialog\n",
    "\n",
    "# Step 1: Open a file dialog to select PDF\n",
    "def select_pdf():\n",
    "    root = Tk()\n",
    "    root.withdraw()  # Hide the root window\n",
    "    file_path = filedialog.askopenfilename(\n",
    "        title=\"Select PDF File\",\n",
    "        filetypes=[(\"PDF files\", \"*.pdf\")]\n",
    "    )\n",
    "    return file_path\n",
    "\n",
    "# Step 2: Load and read the PDF\n",
    "def read_pdf_text(file_path):\n",
    "    reader = PdfReader(file_path)\n",
    "    text = \"\"\n",
    "    for page in reader.pages:\n",
    "        text += page.extract_text() or \"\"\n",
    "    return reader, text\n",
    "\n",
    "# Step 3: Main execution\n",
    "if __name__ == \"__main__\":\n",
    "    pdf_path = select_pdf()\n",
    "    if pdf_path:\n",
    "        reader, pdf_text = read_pdf_text(pdf_path)\n",
    "        \n",
    "        file_name = os.path.basename(pdf_path)\n",
    "        file_size_mb = round(os.path.getsize(pdf_path) / (1024 * 1024), 2)\n",
    "        num_pages = len(reader.pages)\n",
    "        \n",
    "        print(f\"\\n📄 File Ingested: {file_name}\")\n",
    "        print(f\"📚 Total Pages: {num_pages}\")\n",
    "        print(f\"💾 File Size: {file_size_mb} MB\")\n",
    "        \n",
    "        # You can continue processing with LangChain here\n",
    "    else:\n",
    "        print(\"No file selected.\")\n"
   ]
  },
  {
   "cell_type": "code",
   "execution_count": 10,
   "id": "076e7a6f",
   "metadata": {},
   "outputs": [],
   "source": [
    "from typing_extensions import Concatenate\n",
    "# read text from pdf\n",
    "raw_text = ''\n",
    "for i, page in enumerate(reader.pages):\n",
    "    content = page.extract_text()\n",
    "    if content:\n",
    "        raw_text += content"
   ]
  },
  {
   "cell_type": "code",
   "execution_count": 11,
   "id": "eae1fe8b",
   "metadata": {},
   "outputs": [
    {
     "name": "stdout",
     "output_type": "stream",
     "text": [
      "🔤 Text chunks created: 100\n"
     ]
    }
   ],
   "source": [
    "# We need to split the text using Character Text Split such that it sshould not increse token size\n",
    "text_splitter = CharacterTextSplitter(\n",
    "    separator = \"\\n\",\n",
    "    chunk_size = 800,\n",
    "    chunk_overlap  = 200,\n",
    "    length_function = len,\n",
    ")\n",
    "texts = text_splitter.split_text(raw_text)\n",
    "texts = texts[:100]\n",
    "print(f\"🔤 Text chunks created: {len(texts)}\")"
   ]
  },
  {
   "cell_type": "code",
   "execution_count": 12,
   "id": "a417c638",
   "metadata": {},
   "outputs": [
    {
     "name": "stdout",
     "output_type": "stream",
     "text": [
      "🔄 Creating embeddings...\n"
     ]
    }
   ],
   "source": [
    "# Download embeddings using Hugging Face model: \n",
    "# Step 3: Create embeddings and vector store\n",
    "print(\"🔄 Creating embeddings...\")\n",
    "embeddings = HuggingFaceEmbeddings(model_name=\"all-MiniLM-L6-v2\")\n"
   ]
  },
  {
   "cell_type": "code",
   "execution_count": 13,
   "id": "bc9d6b3c",
   "metadata": {},
   "outputs": [
    {
     "name": "stdout",
     "output_type": "stream",
     "text": [
      "✅ Vector store created successfully!\n"
     ]
    },
    {
     "data": {
      "text/plain": [
       "<langchain_community.vectorstores.faiss.FAISS at 0x1a7420fb090>"
      ]
     },
     "execution_count": 13,
     "metadata": {},
     "output_type": "execute_result"
    }
   ],
   "source": [
    "\n",
    "# Create FAISS vector store\n",
    "document_search = FAISS.from_texts(texts, embeddings)\n",
    "print(\"✅ Vector store created successfully!\")\n",
    "document_search"
   ]
  },
  {
   "cell_type": "markdown",
   "id": "9b23f71a",
   "metadata": {},
   "source": [
    "## Sec 4: LLM Intitialisation and Q&A with the PDF - The actual Chatbot creation :\n",
    "- Initiate the LLM \n",
    "- Takes your question\n",
    "- Quickly scans through your PDF document\n",
    "- Finds the relevant sections\n",
    "- Reads them and gives you a short, focused answer\n",
    "- Only shows you the answer, not all the background work"
   ]
  },
  {
   "cell_type": "markdown",
   "id": "bbc7c903",
   "metadata": {},
   "source": [
    "### Details around the LLM Used : \n",
    "- Zephyr-7B-Beta is a conversational medium sized AI model with 7 billion parameters. \n",
    "- It is specifically designed for conversations and following instructions that's perfect for answering questions about documents in a natural, human-like way.\n",
    "- It helps with fast responses through HuggingFace's cloud API and is free to use through HuggingFace API\n",
    "- The model is good at question-answering, summarizing, and chat-like interactions"
   ]
  },
  {
   "cell_type": "code",
   "execution_count": 15,
   "id": "64b80c75",
   "metadata": {},
   "outputs": [
    {
     "name": "stdout",
     "output_type": "stream",
     "text": [
      "Answer: This document is a thesis, and it is about developing a dual-time modeling framework based on observations on the vintage diagram, or \"dual-time analytics\". It discusses the vintage data structure, which appears in economic and financial data, as well as in clinical trials, demography, epidemiology, and dendrochronology. The thesis also mentions Moody's rating system and credit scoring in consumer lending. The main purpose of the thesis is to develop a dual-time modeling framework based on observations on the vintage diagram. The thesis acknowledges the guidance and support of several individuals, including professors and colleagues in the field of credit risk research. The thesis is dedicated to the author's parents in China\n"
     ]
    }
   ],
   "source": [
    "\n",
    "# Use a reliable text-generation model\n",
    "llm = HuggingFaceEndpoint(\n",
    "    repo_id=\"HuggingFaceH4/zephyr-7b-beta\",\n",
    "    huggingfacehub_api_token=os.environ[\"HUGGINGFACEHUB_API_TOKEN\"],\n",
    "    max_new_tokens=150,\n",
    "    temperature=0.1,\n",
    "    return_full_text=False\n",
    ")\n",
    "\n",
    "chain = load_qa_chain(llm, chain_type=\"stuff\")\n",
    "query = \"what is this document all about?\"\n",
    "docs = document_search.similarity_search(query)\n",
    "\n",
    "if docs:\n",
    "    result = chain.invoke({\"input_documents\": docs, \"question\": query})\n",
    "    answer = result['output_text'].strip()\n",
    "    print(\"Answer:\", answer)\n",
    "#     print(result)\n",
    "else:\n",
    "    print(\"No documents found for the query\")"
   ]
  },
  {
   "cell_type": "code",
   "execution_count": null,
   "id": "9ed3c01b",
   "metadata": {},
   "outputs": [],
   "source": []
  }
 ],
 "metadata": {
  "kernelspec": {
   "display_name": "Python 3 (ipykernel)",
   "language": "python",
   "name": "python3"
  },
  "language_info": {
   "codemirror_mode": {
    "name": "ipython",
    "version": 3
   },
   "file_extension": ".py",
   "mimetype": "text/x-python",
   "name": "python",
   "nbconvert_exporter": "python",
   "pygments_lexer": "ipython3",
   "version": "3.11.5"
  }
 },
 "nbformat": 4,
 "nbformat_minor": 5
}
